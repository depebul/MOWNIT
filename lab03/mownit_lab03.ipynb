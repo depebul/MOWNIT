{
 "cells": [
  {
   "cell_type": "markdown",
   "metadata": {},
   "source": [
    "# Laboratorium 03 - Interpolacja\n",
    "\n",
    "Dawid Żak, Szymon Hołysz"
   ]
  },
  {
   "cell_type": "markdown",
   "metadata": {},
   "source": [
    "Populacja Stanów Zjednoczonych na przestrzeni lat przedstawiała\n",
    "się następująco:"
   ]
  },
  {
   "cell_type": "code",
   "execution_count": 35,
   "metadata": {},
   "outputs": [],
   "source": [
    "import pandas as pd\n",
    "import numpy as np\n",
    "from io import StringIO\n",
    "from IPython.display import display\n",
    "import matplotlib.pyplot as plt\n",
    "import seaborn as sns\n",
    "\n",
    "sns.set_style(\"darkgrid\")"
   ]
  },
  {
   "cell_type": "code",
   "execution_count": 36,
   "metadata": {},
   "outputs": [
    {
     "data": {
      "text/html": [
       "<div>\n",
       "<style scoped>\n",
       "    .dataframe tbody tr th:only-of-type {\n",
       "        vertical-align: middle;\n",
       "    }\n",
       "\n",
       "    .dataframe tbody tr th {\n",
       "        vertical-align: top;\n",
       "    }\n",
       "\n",
       "    .dataframe thead th {\n",
       "        text-align: right;\n",
       "    }\n",
       "</style>\n",
       "<table border=\"1\" class=\"dataframe\">\n",
       "  <thead>\n",
       "    <tr style=\"text-align: right;\">\n",
       "      <th></th>\n",
       "      <th>Rok</th>\n",
       "      <th>Populacja</th>\n",
       "    </tr>\n",
       "  </thead>\n",
       "  <tbody>\n",
       "    <tr>\n",
       "      <th>0</th>\n",
       "      <td>1900</td>\n",
       "      <td>76_212_168</td>\n",
       "    </tr>\n",
       "    <tr>\n",
       "      <th>1</th>\n",
       "      <td>1910</td>\n",
       "      <td>92_228_496</td>\n",
       "    </tr>\n",
       "    <tr>\n",
       "      <th>2</th>\n",
       "      <td>1920</td>\n",
       "      <td>106_021_537</td>\n",
       "    </tr>\n",
       "    <tr>\n",
       "      <th>3</th>\n",
       "      <td>1930</td>\n",
       "      <td>123_202_624</td>\n",
       "    </tr>\n",
       "    <tr>\n",
       "      <th>4</th>\n",
       "      <td>1940</td>\n",
       "      <td>132_164_569</td>\n",
       "    </tr>\n",
       "    <tr>\n",
       "      <th>5</th>\n",
       "      <td>1950</td>\n",
       "      <td>151_325_798</td>\n",
       "    </tr>\n",
       "    <tr>\n",
       "      <th>6</th>\n",
       "      <td>1960</td>\n",
       "      <td>179_323_175</td>\n",
       "    </tr>\n",
       "    <tr>\n",
       "      <th>7</th>\n",
       "      <td>1970</td>\n",
       "      <td>203_302_031</td>\n",
       "    </tr>\n",
       "    <tr>\n",
       "      <th>8</th>\n",
       "      <td>1980</td>\n",
       "      <td>226_542_199</td>\n",
       "    </tr>\n",
       "  </tbody>\n",
       "</table>\n",
       "</div>"
      ],
      "text/plain": [
       "    Rok    Populacja\n",
       "0  1900   76_212_168\n",
       "1  1910   92_228_496\n",
       "2  1920  106_021_537\n",
       "3  1930  123_202_624\n",
       "4  1940  132_164_569\n",
       "5  1950  151_325_798\n",
       "6  1960  179_323_175\n",
       "7  1970  203_302_031\n",
       "8  1980  226_542_199"
      ]
     },
     "metadata": {},
     "output_type": "display_data"
    }
   ],
   "source": [
    "data = \"\"\"\n",
    "Rok,Populacja\n",
    "1900,76_212_168\n",
    "1910,92_228_496\n",
    "1920,106_021_537\n",
    "1930,123_202_624\n",
    "1940,132_164_569\n",
    "1950,151_325_798\n",
    "1960,179_323_175\n",
    "1970,203_302_031\n",
    "1980,226_542_199\n",
    "\"\"\"\n",
    "\n",
    "df = pd.read_csv(StringIO(data))\n",
    "\n",
    "display(df)"
   ]
  },
  {
   "cell_type": "markdown",
   "metadata": {},
   "source": [
    "Istnieje dokładnie jeden wielomian ósmego stopnia, który interpoluje po-\n",
    "wyższe dziewięć punktów, natomiast sam wielomian może być reprezentowa-\n",
    "ny na różne sposoby. Rozważamy następujące zbiory funkcji bazowych $\\phi_j(t), j = 1, ..., 9$"
   ]
  },
  {
   "cell_type": "markdown",
   "metadata": {},
   "source": [
    "1.  $$\\phi_j(t) = t^{j-1}$$\n",
    "2.  $$\\phi_j(t) = (t - 1900)^{j-1}$$\n",
    "3.  $$\\phi_j(t) = (t - 1940)^{j-1}$$\n",
    "4.  $$\\phi_j(t) = \\left( \\frac{t - 1940}{40} \\right)^{j-1}$$"
   ]
  },
  {
   "cell_type": "markdown",
   "metadata": {},
   "source": [
    "### A. Dla każdego z czterech zbiorów funkcji bazowych utwórz macierz Vandermonde’a."
   ]
  },
  {
   "cell_type": "code",
   "execution_count": 37,
   "metadata": {},
   "outputs": [],
   "source": [
    "def phi1(t, j):\n",
    "    return (t) ** (j - 1)\n",
    "\n",
    "\n",
    "def phi2(t, j):\n",
    "    return (t - 1900) ** (j - 1)\n",
    "\n",
    "\n",
    "def phi3(t, j):\n",
    "    return (t - 1940) ** (j - 1)\n",
    "\n",
    "\n",
    "def phi4(t, j):\n",
    "    return ((t - 1940) / 40) ** (j - 1)\n",
    "\n",
    "\n",
    "phi_functions = [phi1, phi2, phi3, phi4]\n",
    "vandermonde_matrixes = [\n",
    "    np.array([[phi(t, j) for j in range(1, 10)] for t in df[\"Rok\"]], dtype=np.float64)\n",
    "    for phi in phi_functions\n",
    "]\n"
   ]
  },
  {
   "cell_type": "markdown",
   "metadata": {},
   "source": [
    "### B. Oblicz współczynnik uwarunkowania każdej z powyższch macierzy."
   ]
  },
  {
   "cell_type": "markdown",
   "metadata": {},
   "source": [
    "Najlepiej uwarunkowana okazała się funkcja bazowa nr. 4, która daje najmniejsze współczynniki uwarunkowania macierzy Vandermonde'a."
   ]
  },
  {
   "cell_type": "code",
   "execution_count": 38,
   "metadata": {},
   "outputs": [
    {
     "name": "stdout",
     "output_type": "stream",
     "text": [
      "phi1: 4.3778e+37\n",
      "phi2: 6.2111e+15\n",
      "phi3: 9.3155e+12\n",
      "phi4: 1.6054e+03\n",
      "The index of the function with the lowest condition number is: 4\n"
     ]
    }
   ],
   "source": [
    "cond_list = [np.linalg.cond(matrix) for matrix in vandermonde_matrixes]\n",
    "for i, cond in enumerate(cond_list):\n",
    "    print(f\"phi{i + 1}: {np.format_float_scientific(cond, precision=4)}\")\n",
    "\n",
    "min_cond_index = np.argmin(cond_list)\n",
    "print(\n",
    "    f\"The index of the function with the lowest condition number is: {min_cond_index + 1}\"\n",
    ")"
   ]
  },
  {
   "cell_type": "markdown",
   "metadata": {},
   "source": [
    "Poniżej znajduje się jej macierz Vandermonde'a:"
   ]
  },
  {
   "cell_type": "code",
   "execution_count": 39,
   "metadata": {},
   "outputs": [
    {
     "data": {
      "text/html": [
       "<div>\n",
       "<style scoped>\n",
       "    .dataframe tbody tr th:only-of-type {\n",
       "        vertical-align: middle;\n",
       "    }\n",
       "\n",
       "    .dataframe tbody tr th {\n",
       "        vertical-align: top;\n",
       "    }\n",
       "\n",
       "    .dataframe thead th {\n",
       "        text-align: right;\n",
       "    }\n",
       "</style>\n",
       "<table border=\"1\" class=\"dataframe\">\n",
       "  <thead>\n",
       "    <tr style=\"text-align: right;\">\n",
       "      <th></th>\n",
       "      <th>0</th>\n",
       "      <th>1</th>\n",
       "      <th>2</th>\n",
       "      <th>3</th>\n",
       "      <th>4</th>\n",
       "      <th>5</th>\n",
       "      <th>6</th>\n",
       "      <th>7</th>\n",
       "      <th>8</th>\n",
       "    </tr>\n",
       "  </thead>\n",
       "  <tbody>\n",
       "    <tr>\n",
       "      <th>0</th>\n",
       "      <td>1.0</td>\n",
       "      <td>-1.00</td>\n",
       "      <td>1.0000</td>\n",
       "      <td>-1.000000</td>\n",
       "      <td>1.000000</td>\n",
       "      <td>-1.000000</td>\n",
       "      <td>1.000000</td>\n",
       "      <td>-1.000000</td>\n",
       "      <td>1.000000</td>\n",
       "    </tr>\n",
       "    <tr>\n",
       "      <th>1</th>\n",
       "      <td>1.0</td>\n",
       "      <td>-0.75</td>\n",
       "      <td>0.5625</td>\n",
       "      <td>-0.421875</td>\n",
       "      <td>0.316406</td>\n",
       "      <td>-0.237305</td>\n",
       "      <td>0.177979</td>\n",
       "      <td>-0.133484</td>\n",
       "      <td>0.100113</td>\n",
       "    </tr>\n",
       "    <tr>\n",
       "      <th>2</th>\n",
       "      <td>1.0</td>\n",
       "      <td>-0.50</td>\n",
       "      <td>0.2500</td>\n",
       "      <td>-0.125000</td>\n",
       "      <td>0.062500</td>\n",
       "      <td>-0.031250</td>\n",
       "      <td>0.015625</td>\n",
       "      <td>-0.007812</td>\n",
       "      <td>0.003906</td>\n",
       "    </tr>\n",
       "    <tr>\n",
       "      <th>3</th>\n",
       "      <td>1.0</td>\n",
       "      <td>-0.25</td>\n",
       "      <td>0.0625</td>\n",
       "      <td>-0.015625</td>\n",
       "      <td>0.003906</td>\n",
       "      <td>-0.000977</td>\n",
       "      <td>0.000244</td>\n",
       "      <td>-0.000061</td>\n",
       "      <td>0.000015</td>\n",
       "    </tr>\n",
       "    <tr>\n",
       "      <th>4</th>\n",
       "      <td>1.0</td>\n",
       "      <td>0.00</td>\n",
       "      <td>0.0000</td>\n",
       "      <td>0.000000</td>\n",
       "      <td>0.000000</td>\n",
       "      <td>0.000000</td>\n",
       "      <td>0.000000</td>\n",
       "      <td>0.000000</td>\n",
       "      <td>0.000000</td>\n",
       "    </tr>\n",
       "    <tr>\n",
       "      <th>5</th>\n",
       "      <td>1.0</td>\n",
       "      <td>0.25</td>\n",
       "      <td>0.0625</td>\n",
       "      <td>0.015625</td>\n",
       "      <td>0.003906</td>\n",
       "      <td>0.000977</td>\n",
       "      <td>0.000244</td>\n",
       "      <td>0.000061</td>\n",
       "      <td>0.000015</td>\n",
       "    </tr>\n",
       "    <tr>\n",
       "      <th>6</th>\n",
       "      <td>1.0</td>\n",
       "      <td>0.50</td>\n",
       "      <td>0.2500</td>\n",
       "      <td>0.125000</td>\n",
       "      <td>0.062500</td>\n",
       "      <td>0.031250</td>\n",
       "      <td>0.015625</td>\n",
       "      <td>0.007812</td>\n",
       "      <td>0.003906</td>\n",
       "    </tr>\n",
       "    <tr>\n",
       "      <th>7</th>\n",
       "      <td>1.0</td>\n",
       "      <td>0.75</td>\n",
       "      <td>0.5625</td>\n",
       "      <td>0.421875</td>\n",
       "      <td>0.316406</td>\n",
       "      <td>0.237305</td>\n",
       "      <td>0.177979</td>\n",
       "      <td>0.133484</td>\n",
       "      <td>0.100113</td>\n",
       "    </tr>\n",
       "    <tr>\n",
       "      <th>8</th>\n",
       "      <td>1.0</td>\n",
       "      <td>1.00</td>\n",
       "      <td>1.0000</td>\n",
       "      <td>1.000000</td>\n",
       "      <td>1.000000</td>\n",
       "      <td>1.000000</td>\n",
       "      <td>1.000000</td>\n",
       "      <td>1.000000</td>\n",
       "      <td>1.000000</td>\n",
       "    </tr>\n",
       "  </tbody>\n",
       "</table>\n",
       "</div>"
      ],
      "text/plain": [
       "     0     1       2         3         4         5         6         7  \\\n",
       "0  1.0 -1.00  1.0000 -1.000000  1.000000 -1.000000  1.000000 -1.000000   \n",
       "1  1.0 -0.75  0.5625 -0.421875  0.316406 -0.237305  0.177979 -0.133484   \n",
       "2  1.0 -0.50  0.2500 -0.125000  0.062500 -0.031250  0.015625 -0.007812   \n",
       "3  1.0 -0.25  0.0625 -0.015625  0.003906 -0.000977  0.000244 -0.000061   \n",
       "4  1.0  0.00  0.0000  0.000000  0.000000  0.000000  0.000000  0.000000   \n",
       "5  1.0  0.25  0.0625  0.015625  0.003906  0.000977  0.000244  0.000061   \n",
       "6  1.0  0.50  0.2500  0.125000  0.062500  0.031250  0.015625  0.007812   \n",
       "7  1.0  0.75  0.5625  0.421875  0.316406  0.237305  0.177979  0.133484   \n",
       "8  1.0  1.00  1.0000  1.000000  1.000000  1.000000  1.000000  1.000000   \n",
       "\n",
       "          8  \n",
       "0  1.000000  \n",
       "1  0.100113  \n",
       "2  0.003906  \n",
       "3  0.000015  \n",
       "4  0.000000  \n",
       "5  0.000015  \n",
       "6  0.003906  \n",
       "7  0.100113  \n",
       "8  1.000000  "
      ]
     },
     "metadata": {},
     "output_type": "display_data"
    }
   ],
   "source": [
    "V_best = vandermonde_matrixes[min_cond_index]\n",
    "display(pd.DataFrame(V_best))"
   ]
  },
  {
   "cell_type": "markdown",
   "metadata": {},
   "source": [
    "Następnie wyliczamy współczynniki uwarunkowania macierzy dla tej, która jest najlepiej uwarunkowana:"
   ]
  },
  {
   "cell_type": "code",
   "execution_count": 40,
   "metadata": {},
   "outputs": [
    {
     "name": "stdout",
     "output_type": "stream",
     "text": [
      "coefficients: [ 1.32164569e+08  4.61307656e+07  1.02716315e+08  1.82527130e+08\n",
      " -3.74614715e+08 -3.42668456e+08  6.06291250e+08  1.89175576e+08\n",
      " -3.15180235e+08]\n"
     ]
    }
   ],
   "source": [
    "y = np.float64(df[\"Populacja\"].values)\n",
    "coefficients = np.linalg.solve(V_best, y)\n",
    "print(f\"coefficients: {coefficients}\")"
   ]
  },
  {
   "cell_type": "markdown",
   "metadata": {},
   "source": [
    "### C. Używając najlepiej uwarunkowanej bazy wielomianów, znajdź współczynniki wielomianu interpolacyjnego dla danych z zadania. Narysuj wielomian interpolacyjny. W tym celu użyj schematu Hornera i oblicz na przedziale [1900,1990] wartości wielomianu w odstępach jednorocznych. Na wykresie umieść także węzły interpolacji."
   ]
  },
  {
   "cell_type": "markdown",
   "metadata": {},
   "source": [
    "Poniżej znajduje się wykres przedstawiającu wartości przewidziane przez wielomian oraz wartości rzeczywiste:"
   ]
  },
  {
   "cell_type": "code",
   "execution_count": 41,
   "metadata": {},
   "outputs": [
    {
     "data": {
      "image/png": "[encoded data removed]",
      "text/plain": [
       "<Figure size 800x500 with 1 Axes>"
      ]
     },
     "metadata": {},
     "output_type": "display_data"
    }
   ],
   "source": [
    "def horner(x, coefficients):\n",
    "    result = 0\n",
    "    for coefficient in reversed(coefficients):\n",
    "        result = result * x + coefficient\n",
    "    return result\n",
    "\n",
    "\n",
    "years = np.arange(1900, 1991)\n",
    "x_list = [(t - 1940) / 40 for t in years]\n",
    "predicted_values = [horner(x, coefficients) for x in x_list]\n",
    "plt.figure(figsize=(8, 5))\n",
    "plt.plot(years, predicted_values, label=\"Predicted values\")\n",
    "plt.scatter(\n",
    "    df[\"Rok\"],\n",
    "    df[\"Populacja\"].str.replace(\"_\", \"\").astype(float),\n",
    "    label=\"Real values\",\n",
    "    color=\"red\",\n",
    ")\n",
    "plt.xlabel(\"Year\")\n",
    "plt.ylabel(\"Population\")\n",
    "plt.legend()\n",
    "plt.title(\"Population prediction\")\n",
    "plt.show()"
   ]
  },
  {
   "cell_type": "markdown",
   "metadata": {},
   "source": [
    "### D. Dokonaj ekstrapolacji wielomianu do roku 1990. Porównaj otrzymaną wartość z prawdziwą wartością dla roku 1990, wynoszącą 248 709 873. Ile wynosi błąd względny ekstrapolacji dla roku 1990?"
   ]
  },
  {
   "cell_type": "code",
   "execution_count": 42,
   "metadata": {},
   "outputs": [
    {
     "name": "stdout",
     "output_type": "stream",
     "text": [
      "Przewidziana populacja w roku 1990: 8.2749e+07\n",
      "Realna wartość populacji w roku 1990: 2.4871e+08\n",
      "Błąd względny: 0.67\n"
     ]
    }
   ],
   "source": [
    "year_1990_value = 248_709_873\n",
    "x_1990 = (1990 - 1940) / 40\n",
    "predicted_1990_value = horner(x_1990, coefficients)\n",
    "print(\n",
    "    f\"Przewidziana populacja w roku 1990: {np.format_float_scientific(predicted_1990_value, precision=4)}\"\n",
    ")\n",
    "print(\n",
    "    f\"Realna wartość populacji w roku 1990: {np.format_float_scientific(year_1990_value, precision=4)}\"\n",
    ")\n",
    "print(\n",
    "    f\"Błąd względny: {round(abs(predicted_1990_value - year_1990_value) / year_1990_value, 2)}\"\n",
    ")"
   ]
  },
  {
   "cell_type": "markdown",
   "metadata": {},
   "source": [
    "Jak możemy zauważyć, wartości przewidziane przez wielomian dla roku 1990 są bardzo różne od wartości rzeczywistych."
   ]
  },
  {
   "cell_type": "markdown",
   "metadata": {},
   "source": [
    "### E. Wyznacz wielomian interpolacyjny Lagrange’a na podstawie 9 węzłów interpolacji podanych w zadaniu. Oblicz wartości wielomianu w odstępach jednorocznych."
   ]
  },
  {
   "cell_type": "code",
   "execution_count": 43,
   "metadata": {},
   "outputs": [
    {
     "data": {
      "image/png": "[encoded data removed]",
      "text/plain": [
       "<Figure size 800x500 with 1 Axes>"
      ]
     },
     "metadata": {},
     "output_type": "display_data"
    }
   ],
   "source": [
    "def lagrange_interpolation(x, x_values, y_values):\n",
    "    result = 0\n",
    "    for i in range(len(y_values)):\n",
    "        term = y_values[i]\n",
    "        for j in range(len(y_values)):\n",
    "            if i != j:\n",
    "                term = term * (x - x_values[j]) / (x_values[i] - x_values[j])\n",
    "        result += term\n",
    "    return result\n",
    "\n",
    "\n",
    "x_values = df[\"Rok\"].values\n",
    "y_values = df[\"Populacja\"].str.replace(\"_\", \"\").astype(float).values\n",
    "predicted_values = [lagrange_interpolation(x, x_values, y_values) for x in years]\n",
    "plt.figure(figsize=(8, 5))\n",
    "plt.plot(years, predicted_values, label=\"Predicted values\")\n",
    "plt.scatter(\n",
    "    df[\"Rok\"],\n",
    "    df[\"Populacja\"].str.replace(\"_\", \"\").astype(float),\n",
    "    label=\"Real values\",\n",
    "    color=\"red\",\n",
    ")\n",
    "plt.xlabel(\"Year\")\n",
    "plt.ylabel(\"Population\")\n",
    "plt.legend()\n",
    "plt.title(\"Lagrange interpolation\")\n",
    "plt.show()"
   ]
  },
  {
   "cell_type": "markdown",
   "metadata": {},
   "source": [
    "### F. Wyznacz wielomian interpolacyjny Newtona na podstawie tych samych węzłów interpolacji i oblicz wartości wielomianu w odstępach jednorocznych. "
   ]
  },
  {
   "cell_type": "code",
   "execution_count": 44,
   "metadata": {},
   "outputs": [
    {
     "data": {
      "image/png": "[encoded data removed]",
      "text/plain": [
       "<Figure size 800x500 with 1 Axes>"
      ]
     },
     "metadata": {},
     "output_type": "display_data"
    }
   ],
   "source": [
    "def newton_coefficient(x, y):\n",
    "    m = len(x)\n",
    "\n",
    "    x = np.copy(x)\n",
    "    a = np.copy(y)\n",
    "    for k in range(1, m):\n",
    "        a[k:m] = (a[k:m] - a[k - 1]) / (x[k:m] - x[k - 1])\n",
    "\n",
    "    return a\n",
    "\n",
    "\n",
    "def newton_interpolation(x, x_values, y_values):\n",
    "    a = newton_coefficient(x_values, y_values)\n",
    "    n = len(x_values) - 1\n",
    "    p = a[n]\n",
    "\n",
    "    for k in range(1, n + 1):\n",
    "        p = a[n - k] + (x - x_values[n - k]) * p\n",
    "\n",
    "    return p\n",
    "\n",
    "\n",
    "predicted_values = [newton_interpolation(x, x_values, y_values) for x in years]\n",
    "plt.figure(figsize=(8, 5))\n",
    "plt.plot(years, predicted_values, label=\"Predicted values\")\n",
    "plt.scatter(\n",
    "    df[\"Rok\"],\n",
    "    df[\"Populacja\"].str.replace(\"_\", \"\").astype(float),\n",
    "    label=\"Real values\",\n",
    "    color=\"red\",\n",
    ")\n",
    "plt.xlabel(\"Year\")\n",
    "plt.ylabel(\"Population\")\n",
    "plt.legend()\n",
    "plt.title(\"Newton interpolation\")\n",
    "plt.show()"
   ]
  },
  {
   "cell_type": "markdown",
   "metadata": {},
   "source": [
    "### G. Zaokrąglij dane podane w tabeli do jednego miliona. Na podstawie takich danych wyznacz wielomian interpolacyjny ósmego stopnia, używając najlepiej uwarunkowanej bazy z podpunktu (c). Porównaj wyznaczone współczynniki z współczynnikami obliczonymi w podpunkcie (c). Wyjaśnij otrzymany wynik. Ile wynosi błąd względny ekstrapolacji dla roku 1990 obliczony przy pomocy tak wyznaczonego wielomianu interpolacyjnego?"
   ]
  },
  {
   "cell_type": "markdown",
   "metadata": {},
   "source": [
    "Poniżej znajduje się tablica z zaokrąglonymi wartościami do 1 000 000:"
   ]
  },
  {
   "cell_type": "code",
   "execution_count": 45,
   "metadata": {},
   "outputs": [
    {
     "data": {
      "text/html": [
       "<div>\n",
       "<style scoped>\n",
       "    .dataframe tbody tr th:only-of-type {\n",
       "        vertical-align: middle;\n",
       "    }\n",
       "\n",
       "    .dataframe tbody tr th {\n",
       "        vertical-align: top;\n",
       "    }\n",
       "\n",
       "    .dataframe thead th {\n",
       "        text-align: right;\n",
       "    }\n",
       "</style>\n",
       "<table border=\"1\" class=\"dataframe\">\n",
       "  <thead>\n",
       "    <tr style=\"text-align: right;\">\n",
       "      <th></th>\n",
       "      <th>Rok</th>\n",
       "      <th>Populacja</th>\n",
       "    </tr>\n",
       "  </thead>\n",
       "  <tbody>\n",
       "    <tr>\n",
       "      <th>0</th>\n",
       "      <td>1900</td>\n",
       "      <td>76000000</td>\n",
       "    </tr>\n",
       "    <tr>\n",
       "      <th>1</th>\n",
       "      <td>1910</td>\n",
       "      <td>92000000</td>\n",
       "    </tr>\n",
       "    <tr>\n",
       "      <th>2</th>\n",
       "      <td>1920</td>\n",
       "      <td>106000000</td>\n",
       "    </tr>\n",
       "    <tr>\n",
       "      <th>3</th>\n",
       "      <td>1930</td>\n",
       "      <td>123000000</td>\n",
       "    </tr>\n",
       "    <tr>\n",
       "      <th>4</th>\n",
       "      <td>1940</td>\n",
       "      <td>132000000</td>\n",
       "    </tr>\n",
       "    <tr>\n",
       "      <th>5</th>\n",
       "      <td>1950</td>\n",
       "      <td>151000000</td>\n",
       "    </tr>\n",
       "    <tr>\n",
       "      <th>6</th>\n",
       "      <td>1960</td>\n",
       "      <td>179000000</td>\n",
       "    </tr>\n",
       "    <tr>\n",
       "      <th>7</th>\n",
       "      <td>1970</td>\n",
       "      <td>203000000</td>\n",
       "    </tr>\n",
       "    <tr>\n",
       "      <th>8</th>\n",
       "      <td>1980</td>\n",
       "      <td>227000000</td>\n",
       "    </tr>\n",
       "  </tbody>\n",
       "</table>\n",
       "</div>"
      ],
      "text/plain": [
       "    Rok  Populacja\n",
       "0  1900   76000000\n",
       "1  1910   92000000\n",
       "2  1920  106000000\n",
       "3  1930  123000000\n",
       "4  1940  132000000\n",
       "5  1950  151000000\n",
       "6  1960  179000000\n",
       "7  1970  203000000\n",
       "8  1980  227000000"
      ]
     },
     "metadata": {},
     "output_type": "display_data"
    }
   ],
   "source": [
    "df[\"Populacja\"] = (\n",
    "    df[\"Populacja\"].str.replace(\"_\", \"\").astype(float).round(-6).astype(int)\n",
    ")\n",
    "vandermonde_matrixes = [\n",
    "    np.array([[phi(t, j) for j in range(1, 10)] for t in df[\"Rok\"]], dtype=np.float64)\n",
    "    for phi in phi_functions\n",
    "]\n",
    "\n",
    "display(df)"
   ]
  },
  {
   "cell_type": "markdown",
   "metadata": {},
   "source": [
    "Wartości uwarunkowania dla różnych zbiorów funkcji bazowych:"
   ]
  },
  {
   "cell_type": "code",
   "execution_count": 46,
   "metadata": {},
   "outputs": [
    {
     "name": "stdout",
     "output_type": "stream",
     "text": [
      "phi1: 4.3778e+37\n",
      "phi2: 6.2111e+15\n",
      "phi3: 9.3155e+12\n",
      "phi4: 1.6054e+03\n",
      "The index of the function with the lowest condition number is: 4\n"
     ]
    }
   ],
   "source": [
    "cond_list = [np.linalg.cond(matrix) for matrix in vandermonde_matrixes]\n",
    "for i, cond in enumerate(cond_list):\n",
    "    print(f\"phi{i + 1}: {np.format_float_scientific(cond, precision=4)}\")\n",
    "\n",
    "min_cond_index = np.argmin(cond_list)\n",
    "print(\n",
    "    f\"The index of the function with the lowest condition number is: {min_cond_index + 1}\"\n",
    ")"
   ]
  },
  {
   "cell_type": "markdown",
   "metadata": {},
   "source": [
    "Przyjmują one prawie identyczne wartości, co te wyliczone z nie zaokrąglonymi wartościami."
   ]
  },
  {
   "cell_type": "code",
   "execution_count": 47,
   "metadata": {},
   "outputs": [
    {
     "data": {
      "text/html": [
       "<div>\n",
       "<style scoped>\n",
       "    .dataframe tbody tr th:only-of-type {\n",
       "        vertical-align: middle;\n",
       "    }\n",
       "\n",
       "    .dataframe tbody tr th {\n",
       "        vertical-align: top;\n",
       "    }\n",
       "\n",
       "    .dataframe thead th {\n",
       "        text-align: right;\n",
       "    }\n",
       "</style>\n",
       "<table border=\"1\" class=\"dataframe\">\n",
       "  <thead>\n",
       "    <tr style=\"text-align: right;\">\n",
       "      <th></th>\n",
       "      <th>0</th>\n",
       "      <th>1</th>\n",
       "      <th>2</th>\n",
       "      <th>3</th>\n",
       "      <th>4</th>\n",
       "      <th>5</th>\n",
       "      <th>6</th>\n",
       "      <th>7</th>\n",
       "      <th>8</th>\n",
       "    </tr>\n",
       "  </thead>\n",
       "  <tbody>\n",
       "    <tr>\n",
       "      <th>0</th>\n",
       "      <td>1.0</td>\n",
       "      <td>-1.00</td>\n",
       "      <td>1.0000</td>\n",
       "      <td>-1.000000</td>\n",
       "      <td>1.000000</td>\n",
       "      <td>-1.000000</td>\n",
       "      <td>1.000000</td>\n",
       "      <td>-1.000000</td>\n",
       "      <td>1.000000</td>\n",
       "    </tr>\n",
       "    <tr>\n",
       "      <th>1</th>\n",
       "      <td>1.0</td>\n",
       "      <td>-0.75</td>\n",
       "      <td>0.5625</td>\n",
       "      <td>-0.421875</td>\n",
       "      <td>0.316406</td>\n",
       "      <td>-0.237305</td>\n",
       "      <td>0.177979</td>\n",
       "      <td>-0.133484</td>\n",
       "      <td>0.100113</td>\n",
       "    </tr>\n",
       "    <tr>\n",
       "      <th>2</th>\n",
       "      <td>1.0</td>\n",
       "      <td>-0.50</td>\n",
       "      <td>0.2500</td>\n",
       "      <td>-0.125000</td>\n",
       "      <td>0.062500</td>\n",
       "      <td>-0.031250</td>\n",
       "      <td>0.015625</td>\n",
       "      <td>-0.007812</td>\n",
       "      <td>0.003906</td>\n",
       "    </tr>\n",
       "    <tr>\n",
       "      <th>3</th>\n",
       "      <td>1.0</td>\n",
       "      <td>-0.25</td>\n",
       "      <td>0.0625</td>\n",
       "      <td>-0.015625</td>\n",
       "      <td>0.003906</td>\n",
       "      <td>-0.000977</td>\n",
       "      <td>0.000244</td>\n",
       "      <td>-0.000061</td>\n",
       "      <td>0.000015</td>\n",
       "    </tr>\n",
       "    <tr>\n",
       "      <th>4</th>\n",
       "      <td>1.0</td>\n",
       "      <td>0.00</td>\n",
       "      <td>0.0000</td>\n",
       "      <td>0.000000</td>\n",
       "      <td>0.000000</td>\n",
       "      <td>0.000000</td>\n",
       "      <td>0.000000</td>\n",
       "      <td>0.000000</td>\n",
       "      <td>0.000000</td>\n",
       "    </tr>\n",
       "    <tr>\n",
       "      <th>5</th>\n",
       "      <td>1.0</td>\n",
       "      <td>0.25</td>\n",
       "      <td>0.0625</td>\n",
       "      <td>0.015625</td>\n",
       "      <td>0.003906</td>\n",
       "      <td>0.000977</td>\n",
       "      <td>0.000244</td>\n",
       "      <td>0.000061</td>\n",
       "      <td>0.000015</td>\n",
       "    </tr>\n",
       "    <tr>\n",
       "      <th>6</th>\n",
       "      <td>1.0</td>\n",
       "      <td>0.50</td>\n",
       "      <td>0.2500</td>\n",
       "      <td>0.125000</td>\n",
       "      <td>0.062500</td>\n",
       "      <td>0.031250</td>\n",
       "      <td>0.015625</td>\n",
       "      <td>0.007812</td>\n",
       "      <td>0.003906</td>\n",
       "    </tr>\n",
       "    <tr>\n",
       "      <th>7</th>\n",
       "      <td>1.0</td>\n",
       "      <td>0.75</td>\n",
       "      <td>0.5625</td>\n",
       "      <td>0.421875</td>\n",
       "      <td>0.316406</td>\n",
       "      <td>0.237305</td>\n",
       "      <td>0.177979</td>\n",
       "      <td>0.133484</td>\n",
       "      <td>0.100113</td>\n",
       "    </tr>\n",
       "    <tr>\n",
       "      <th>8</th>\n",
       "      <td>1.0</td>\n",
       "      <td>1.00</td>\n",
       "      <td>1.0000</td>\n",
       "      <td>1.000000</td>\n",
       "      <td>1.000000</td>\n",
       "      <td>1.000000</td>\n",
       "      <td>1.000000</td>\n",
       "      <td>1.000000</td>\n",
       "      <td>1.000000</td>\n",
       "    </tr>\n",
       "  </tbody>\n",
       "</table>\n",
       "</div>"
      ],
      "text/plain": [
       "     0     1       2         3         4         5         6         7  \\\n",
       "0  1.0 -1.00  1.0000 -1.000000  1.000000 -1.000000  1.000000 -1.000000   \n",
       "1  1.0 -0.75  0.5625 -0.421875  0.316406 -0.237305  0.177979 -0.133484   \n",
       "2  1.0 -0.50  0.2500 -0.125000  0.062500 -0.031250  0.015625 -0.007812   \n",
       "3  1.0 -0.25  0.0625 -0.015625  0.003906 -0.000977  0.000244 -0.000061   \n",
       "4  1.0  0.00  0.0000  0.000000  0.000000  0.000000  0.000000  0.000000   \n",
       "5  1.0  0.25  0.0625  0.015625  0.003906  0.000977  0.000244  0.000061   \n",
       "6  1.0  0.50  0.2500  0.125000  0.062500  0.031250  0.015625  0.007812   \n",
       "7  1.0  0.75  0.5625  0.421875  0.316406  0.237305  0.177979  0.133484   \n",
       "8  1.0  1.00  1.0000  1.000000  1.000000  1.000000  1.000000  1.000000   \n",
       "\n",
       "          8  \n",
       "0  1.000000  \n",
       "1  0.100113  \n",
       "2  0.003906  \n",
       "3  0.000015  \n",
       "4  0.000000  \n",
       "5  0.000015  \n",
       "6  0.003906  \n",
       "7  0.100113  \n",
       "8  1.000000  "
      ]
     },
     "metadata": {},
     "output_type": "display_data"
    }
   ],
   "source": [
    "V_best = vandermonde_matrixes[min_cond_index]\n",
    "display(pd.DataFrame(V_best))"
   ]
  },
  {
   "cell_type": "markdown",
   "metadata": {},
   "source": [
    "Wartości współczynników dla najlepiej uwarunkowanej macierzy:"
   ]
  },
  {
   "cell_type": "code",
   "execution_count": 48,
   "metadata": {},
   "outputs": [
    {
     "name": "stdout",
     "output_type": "stream",
     "text": [
      "coefficients: [ 1.32000000e+08  4.59571429e+07  1.00141270e+08  1.81111111e+08\n",
      " -3.56755556e+08 -3.38488889e+08  5.70311111e+08  1.86920635e+08\n",
      " -2.94196825e+08]\n"
     ]
    }
   ],
   "source": [
    "y = np.float64(df[\"Populacja\"].values)\n",
    "rounded_coefficients = np.linalg.solve(V_best, y)\n",
    "print(f\"coefficients: {rounded_coefficients}\")"
   ]
  },
  {
   "cell_type": "markdown",
   "metadata": {},
   "source": [
    "Poniżej znajduje się wykres przedstawiającu wartości przewidziane przez wielomian oraz wartości rzeczywiste:"
   ]
  },
  {
   "cell_type": "code",
   "execution_count": 49,
   "metadata": {},
   "outputs": [
    {
     "data": {
      "image/png": "[encoded data removed]",
      "text/plain": [
       "<Figure size 800x500 with 1 Axes>"
      ]
     },
     "metadata": {},
     "output_type": "display_data"
    }
   ],
   "source": [
    "years = np.arange(1900, 1991)\n",
    "x_list = [(t - 1940) / 40 for t in years]\n",
    "rounded_predicted_values = [horner(x, rounded_coefficients) for x in x_list]\n",
    "plt.figure(figsize=(8, 5))\n",
    "plt.plot(years, rounded_predicted_values, label=\"Predicted values\")\n",
    "plt.scatter(\n",
    "    df[\"Rok\"],\n",
    "    df[\"Populacja\"],\n",
    "    label=\"Real values\",\n",
    "    color=\"red\",\n",
    ")\n",
    "plt.xlabel(\"Year\")\n",
    "plt.ylabel(\"Population\")\n",
    "plt.legend()\n",
    "plt.title(\"Population prediction with rounded values\")\n",
    "plt.show()"
   ]
  },
  {
   "cell_type": "markdown",
   "metadata": {},
   "source": [
    "Współczynniki zaokrąglone i nie zaokrąglone, przymują różne,lecz nie drastycznie wartości."
   ]
  },
  {
   "cell_type": "code",
   "execution_count": 50,
   "metadata": {
    "vscode": {
     "languageId": "javascript"
    }
   },
   "outputs": [
    {
     "data": {
      "text/html": [
       "<div>\n",
       "<style scoped>\n",
       "    .dataframe tbody tr th:only-of-type {\n",
       "        vertical-align: middle;\n",
       "    }\n",
       "\n",
       "    .dataframe tbody tr th {\n",
       "        vertical-align: top;\n",
       "    }\n",
       "\n",
       "    .dataframe thead th {\n",
       "        text-align: right;\n",
       "    }\n",
       "</style>\n",
       "<table border=\"1\" class=\"dataframe\">\n",
       "  <thead>\n",
       "    <tr style=\"text-align: right;\">\n",
       "      <th></th>\n",
       "      <th>Original Coefficients</th>\n",
       "      <th>Rounded Coefficients</th>\n",
       "    </tr>\n",
       "  </thead>\n",
       "  <tbody>\n",
       "    <tr>\n",
       "      <th>0</th>\n",
       "      <td>1.321646e+08</td>\n",
       "      <td>1.320000e+08</td>\n",
       "    </tr>\n",
       "    <tr>\n",
       "      <th>1</th>\n",
       "      <td>4.613077e+07</td>\n",
       "      <td>4.595714e+07</td>\n",
       "    </tr>\n",
       "    <tr>\n",
       "      <th>2</th>\n",
       "      <td>1.027163e+08</td>\n",
       "      <td>1.001413e+08</td>\n",
       "    </tr>\n",
       "    <tr>\n",
       "      <th>3</th>\n",
       "      <td>1.825271e+08</td>\n",
       "      <td>1.811111e+08</td>\n",
       "    </tr>\n",
       "    <tr>\n",
       "      <th>4</th>\n",
       "      <td>-3.746147e+08</td>\n",
       "      <td>-3.567556e+08</td>\n",
       "    </tr>\n",
       "    <tr>\n",
       "      <th>5</th>\n",
       "      <td>-3.426685e+08</td>\n",
       "      <td>-3.384889e+08</td>\n",
       "    </tr>\n",
       "    <tr>\n",
       "      <th>6</th>\n",
       "      <td>6.062912e+08</td>\n",
       "      <td>5.703111e+08</td>\n",
       "    </tr>\n",
       "    <tr>\n",
       "      <th>7</th>\n",
       "      <td>1.891756e+08</td>\n",
       "      <td>1.869206e+08</td>\n",
       "    </tr>\n",
       "    <tr>\n",
       "      <th>8</th>\n",
       "      <td>-3.151802e+08</td>\n",
       "      <td>-2.941968e+08</td>\n",
       "    </tr>\n",
       "  </tbody>\n",
       "</table>\n",
       "</div>"
      ],
      "text/plain": [
       "   Original Coefficients  Rounded Coefficients\n",
       "0           1.321646e+08          1.320000e+08\n",
       "1           4.613077e+07          4.595714e+07\n",
       "2           1.027163e+08          1.001413e+08\n",
       "3           1.825271e+08          1.811111e+08\n",
       "4          -3.746147e+08         -3.567556e+08\n",
       "5          -3.426685e+08         -3.384889e+08\n",
       "6           6.062912e+08          5.703111e+08\n",
       "7           1.891756e+08          1.869206e+08\n",
       "8          -3.151802e+08         -2.941968e+08"
      ]
     },
     "metadata": {},
     "output_type": "display_data"
    }
   ],
   "source": [
    "coefficients_df = pd.DataFrame({\n",
    "    'Original Coefficients': coefficients,\n",
    "    'Rounded Coefficients': rounded_coefficients\n",
    "})\n",
    "\n",
    "display(coefficients_df)"
   ]
  },
  {
   "cell_type": "markdown",
   "metadata": {},
   "source": [
    "Przewidziana wartość populacji dla roku 1990:"
   ]
  },
  {
   "cell_type": "code",
   "execution_count": 51,
   "metadata": {},
   "outputs": [
    {
     "name": "stdout",
     "output_type": "stream",
     "text": [
      "Przewidziana populacja w roku 1990: 1.09e+08\n",
      "Realna wartość populacji w roku 1990: 2.4871e+08\n",
      "Błąd względny: 0.56\n"
     ]
    }
   ],
   "source": [
    "year_1990_value = 248_709_873\n",
    "x_1990 = (1990 - 1940) / 40\n",
    "predicted_1990_value = horner(x_1990, rounded_coefficients)\n",
    "print(\n",
    "    f\"Przewidziana populacja w roku 1990: {np.format_float_scientific(predicted_1990_value, precision=4)}\"\n",
    ")\n",
    "print(\n",
    "    f\"Realna wartość populacji w roku 1990: {np.format_float_scientific(year_1990_value, precision=4)}\"\n",
    ")\n",
    "print(\n",
    "    f\"Błąd względny: {round(abs(predicted_1990_value - year_1990_value) / year_1990_value, 2)}\"\n",
    ")"
   ]
  },
  {
   "cell_type": "markdown",
   "metadata": {},
   "source": [
    "Wartość jest obarczona istotnie mniejszym błędem od wartości obliczonej bez zaokrąglania, jednak błąd względny jest nadal na tyle duży, że wynik ekstrapolacji nie jest użyteczny."
   ]
  },
  {
   "cell_type": "markdown",
   "metadata": {},
   "source": [
    "### Wnioski"
   ]
  },
  {
   "cell_type": "markdown",
   "metadata": {},
   "source": [
    "- Znalezienie odpowiedniej, dobrze uwarunkowanej bazy wielomianów jest kluczowe do stworzenia dobrej interpolacji.\n",
    "- Interpolacja dla wszystkich 4 metod wykazała podobne poziomy zgodności dla wartości między podanymi punktami, różnice były pomijalne.\n",
    "- Powyższe metody nie pozwalają na ekstrapolacje danych, gdyż błędy względne dla wartości spoza przedziału zawierającego węzły interpolacji są zbyt duże.\n",
    "- Zaokrąglenie wartości pozwala uzyskać mniejszy błąd przy ekstrapolacji, mimo w przybliżeniu równego współczynnika uwarunkowania."
   ]
  }
 ],
 "metadata": {
  "kernelspec": {
   "display_name": "base",
   "language": "python",
   "name": "python3"
  },
  "language_info": {
   "codemirror_mode": {
    "name": "ipython",
    "version": 3
   },
   "file_extension": ".py",
   "mimetype": "text/x-python",
   "name": "python",
   "nbconvert_exporter": "python",
   "pygments_lexer": "ipython3",
   "version": "3.12.9"
  }
 },
 "nbformat": 4,
 "nbformat_minor": 2
}
