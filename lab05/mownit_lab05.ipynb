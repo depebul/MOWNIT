{
 "cells": [
  {
   "cell_type": "markdown",
   "id": "85ccb60b",
   "metadata": {},
   "source": [
    "# Laboratorium 5 - Aproksymacja"
   ]
  },
  {
   "cell_type": "code",
   "execution_count": 16,
   "id": "582b3bf7",
   "metadata": {},
   "outputs": [],
   "source": [
    "import pandas as pd\n",
    "import numpy as np\n",
    "from io import StringIO\n",
    "from IPython.display import display\n",
    "import matplotlib.pyplot as plt\n",
    "import seaborn as sns\n",
    "import scipy.integrate as integrate\n",
    "\n",
    "sns.set_style(\"darkgrid\")"
   ]
  },
  {
   "cell_type": "code",
   "execution_count": 17,
   "id": "52b82733",
   "metadata": {},
   "outputs": [],
   "source": [
    "x_vec = np.array(\n",
    "    [1900, 1910, 1920, 1930, 1940, 1950, 1960, 1970, 1980], dtype=np.double\n",
    ")\n",
    "y_vec = np.array(\n",
    "    [\n",
    "        76_212_168,\n",
    "        92_228_496,\n",
    "        106_021_537,\n",
    "        123_202_624,\n",
    "        132_164_569,\n",
    "        151_325_798,\n",
    "        179_323_175,\n",
    "        203_302_031,\n",
    "        226_542_199,\n",
    "    ],\n",
    "    dtype=np.double,\n",
    ")"
   ]
  },
  {
   "cell_type": "markdown",
   "id": "02943488",
   "metadata": {},
   "source": [
    "### Zadanie 1. \n",
    "Wykonaliśmy aproksymację średniokwadratową punktową populacji\n",
    "Stanów Zjednoczonych w przedziale $[1900,1980]$ wielomianami stopnia $m$ dla\n",
    "$0 ≤m ≤6$. W tabeli poniżej przedstawione są wartości będące przedmiotem aproksymacji. Na podstawie tych wartości wyznaczymy wielomian aproksymacyjny stopnia $m$ dla $m = 1,...,6$. Następnie dla każdej wartości $m$ dokonamy ekstrapolacji do roku 1990 i wyznaczymy minimalny błąd względny."
   ]
  },
  {
   "cell_type": "code",
   "execution_count": 18,
   "id": "7857f637",
   "metadata": {},
   "outputs": [
    {
     "data": {
      "text/html": [
       "<div>\n",
       "<style scoped>\n",
       "    .dataframe tbody tr th:only-of-type {\n",
       "        vertical-align: middle;\n",
       "    }\n",
       "\n",
       "    .dataframe tbody tr th {\n",
       "        vertical-align: top;\n",
       "    }\n",
       "\n",
       "    .dataframe thead th {\n",
       "        text-align: right;\n",
       "    }\n",
       "</style>\n",
       "<table border=\"1\" class=\"dataframe\">\n",
       "  <thead>\n",
       "    <tr style=\"text-align: right;\">\n",
       "      <th></th>\n",
       "      <th>Rok</th>\n",
       "      <th>Populacja</th>\n",
       "    </tr>\n",
       "  </thead>\n",
       "  <tbody>\n",
       "    <tr>\n",
       "      <th>0</th>\n",
       "      <td>1900</td>\n",
       "      <td>76_212_168</td>\n",
       "    </tr>\n",
       "    <tr>\n",
       "      <th>1</th>\n",
       "      <td>1910</td>\n",
       "      <td>92_228_496</td>\n",
       "    </tr>\n",
       "    <tr>\n",
       "      <th>2</th>\n",
       "      <td>1920</td>\n",
       "      <td>106_021_537</td>\n",
       "    </tr>\n",
       "    <tr>\n",
       "      <th>3</th>\n",
       "      <td>1930</td>\n",
       "      <td>123_202_624</td>\n",
       "    </tr>\n",
       "    <tr>\n",
       "      <th>4</th>\n",
       "      <td>1940</td>\n",
       "      <td>132_164_569</td>\n",
       "    </tr>\n",
       "    <tr>\n",
       "      <th>5</th>\n",
       "      <td>1950</td>\n",
       "      <td>151_325_798</td>\n",
       "    </tr>\n",
       "    <tr>\n",
       "      <th>6</th>\n",
       "      <td>1960</td>\n",
       "      <td>179_323_175</td>\n",
       "    </tr>\n",
       "    <tr>\n",
       "      <th>7</th>\n",
       "      <td>1970</td>\n",
       "      <td>203_302_031</td>\n",
       "    </tr>\n",
       "    <tr>\n",
       "      <th>8</th>\n",
       "      <td>1980</td>\n",
       "      <td>226_542_199</td>\n",
       "    </tr>\n",
       "  </tbody>\n",
       "</table>\n",
       "</div>"
      ],
      "text/plain": [
       "    Rok    Populacja\n",
       "0  1900   76_212_168\n",
       "1  1910   92_228_496\n",
       "2  1920  106_021_537\n",
       "3  1930  123_202_624\n",
       "4  1940  132_164_569\n",
       "5  1950  151_325_798\n",
       "6  1960  179_323_175\n",
       "7  1970  203_302_031\n",
       "8  1980  226_542_199"
      ]
     },
     "metadata": {},
     "output_type": "display_data"
    }
   ],
   "source": [
    "data = \"\"\"\n",
    "Rok,Populacja\n",
    "1900,76_212_168\n",
    "1910,92_228_496\n",
    "1920,106_021_537\n",
    "1930,123_202_624\n",
    "1940,132_164_569\n",
    "1950,151_325_798\n",
    "1960,179_323_175\n",
    "1970,203_302_031\n",
    "1980,226_542_199\n",
    "\"\"\"\n",
    "\n",
    "df = pd.read_csv(StringIO(data))\n",
    "\n",
    "display(df)"
   ]
  },
  {
   "cell_type": "code",
   "execution_count": 19,
   "id": "89c19d34",
   "metadata": {},
   "outputs": [],
   "source": [
    "steps = range(7)\n",
    "results = {}"
   ]
  },
  {
   "cell_type": "markdown",
   "id": "032589b0",
   "metadata": {},
   "source": [
    "Na początku wyliczamy macierz Vandermonde'a dla wszystkich stopni m i następnie przy jej użyciu wyznaczamy współczynniki przy wielomianach."
   ]
  },
  {
   "cell_type": "code",
   "execution_count": 20,
   "id": "0ac36f8f",
   "metadata": {},
   "outputs": [],
   "source": [
    "def vandermonde_matrix(x, m):\n",
    "    return np.vander(x, m + 1, increasing=True)\n",
    "\n",
    "\n",
    "def solve_factorials(A, y):\n",
    "    return np.linalg.solve(A.T @ A, A.T @ y)\n"
   ]
  },
  {
   "cell_type": "code",
   "execution_count": 21,
   "id": "c135d89d",
   "metadata": {},
   "outputs": [],
   "source": [
    "for m in steps:\n",
    "    A = vandermonde_matrix(x_vec, m)\n",
    "    b = solve_factorials(A, y_vec)\n",
    "    results[m] = b"
   ]
  },
  {
   "cell_type": "code",
   "execution_count": 22,
   "id": "8c4e123c",
   "metadata": {},
   "outputs": [],
   "source": [
    "def evaluate_polynomial(x, b):\n",
    "    result = 0\n",
    "    for i, coef in enumerate(b):\n",
    "        result += coef * (x**i)\n",
    "    return result"
   ]
  },
  {
   "cell_type": "markdown",
   "id": "297556ba",
   "metadata": {},
   "source": [
    "#### Zadanie 1 (a)\n",
    "\n",
    "Z obliczeń prognoz wynika, że najmniejszy błąd względny osiągamy dla wielomianu 6. stopnia. Podobnym błędem obarczona jest też ekstrapolacja wielomianem 2. lub 4. stopnia."
   ]
  },
  {
   "cell_type": "code",
   "execution_count": 23,
   "id": "c6f59259",
   "metadata": {},
   "outputs": [
    {
     "name": "stdout",
     "output_type": "stream",
     "text": [
      "Prognoza populacji w 1990 roku: 143369177, dla m=0\n",
      "względny błąd prognozy: 42.35%\n",
      "Prognoza populacji w 1990 roku: 235808109, dla m=1\n",
      "względny błąd prognozy: 5.19%\n",
      "Prognoza populacji w 1990 roku: 254712945, dla m=2\n",
      "względny błąd prognozy: 2.41%\n",
      "Prognoza populacji w 1990 roku: 261439719, dla m=3\n",
      "względny błąd prognozy: 5.12%\n",
      "Prognoza populacji w 1990 roku: 256411956, dla m=4\n",
      "względny błąd prognozy: 3.10%\n",
      "Prognoza populacji w 1990 roku: 226938061, dla m=5\n",
      "względny błąd prognozy: 8.75%\n",
      "Prognoza populacji w 1990 roku: 243501315, dla m=6\n",
      "względny błąd prognozy: 2.09%\n"
     ]
    }
   ],
   "source": [
    "for m, b in results.items():\n",
    "    x = 1990\n",
    "    y = evaluate_polynomial(x, b)\n",
    "    print(f\"Prognoza populacji w {x} roku: {y:.0f}, dla m={m}\")\n",
    "    print(f\"względny błąd prognozy: {abs(y - 248_709_873) / 248_709_873:.2%}\")"
   ]
  },
  {
   "cell_type": "code",
   "execution_count": 24,
   "id": "70b63b21",
   "metadata": {},
   "outputs": [],
   "source": [
    "def calculate_mean_squared_error(y, y_pred):\n",
    "    return np.mean((y - y_pred) ** 2)"
   ]
  },
  {
   "cell_type": "code",
   "execution_count": 25,
   "id": "0e7a5ee7",
   "metadata": {},
   "outputs": [],
   "source": [
    "def AIC(m, y_vec, y_pred):\n",
    "    n = len(y_vec)\n",
    "    return 2 * (m + 1) + n * np.log(np.sum((y_vec - y_pred) ** 2) / n)\n",
    "\n",
    "\n",
    "def AICc(AIC, m, n):\n",
    "    return AIC + 2 * (m + 1) * (m + 2) / (n - m - 2)"
   ]
  },
  {
   "cell_type": "markdown",
   "id": "5e615444",
   "metadata": {},
   "source": [
    "### Zadanie 1 (b)\n",
    "\n",
    "Aby wyznaczyć optymalny stopień wielomianu zastosujemy kryterium informacyjne Akaikego `AIC` $$ \\text{AIC} = 2k + n \\ln\\left(\\frac{\\sum_{i=1}^{n} [y_i - \\hat{y}(x_i)]^2}{n}\\right),$$. Ponieważ rozmiar próbki jest niewielki, zastosujemy wzór ze składnikiem korygującym `AICc` $$ \\text{AIC}_c = \\text{AIC} + \\frac{2k(k+1)}{n - k - 1}. $$"
   ]
  },
  {
   "cell_type": "code",
   "execution_count": 26,
   "id": "9f2ee9d8",
   "metadata": {},
   "outputs": [
    {
     "name": "stdout",
     "output_type": "stream",
     "text": [
      "AIC dla m=0: 320.44, AICc: 321.01\n",
      "AIC dla m=1: 287.06, AICc: 289.06\n",
      "AIC dla m=2: 274.65, AICc: 279.45\n",
      "AIC dla m=3: 274.88, AICc: 284.88\n",
      "AIC dla m=4: 274.54, AICc: 294.54\n",
      "AIC dla m=5: 277.71, AICc: 319.71\n",
      "AIC dla m=6: 274.87, AICc: 386.87\n"
     ]
    }
   ],
   "source": [
    "for m, b in results.items():\n",
    "    y_pred = evaluate_polynomial(x_vec, b)\n",
    "    mse = calculate_mean_squared_error(y_vec, y_pred)\n",
    "    aic = AIC(m, y_vec, y_pred)\n",
    "    aicc = AICc(aic, m, len(y_vec))\n",
    "    print(f\"AIC dla m={m}: {aic:.2f}, AICc: {aicc:.2f}\")"
   ]
  },
  {
   "cell_type": "markdown",
   "id": "daec54ec",
   "metadata": {},
   "source": [
    "### Zadanie 2\n",
    "\n",
    "Wykonujemy aproksymację średniokwadratową ciągłą funkcji $f(x) = \\sqrt{x} $ w przedziale $[0,2]$ wielomianem drugiego stopnia, używając wielomianów\n",
    "Czebyszewa. Aproksymacja ta jest tańszym obliczeniowo zamiennikiem aproksymacji jednostajnej."
   ]
  },
  {
   "cell_type": "code",
   "execution_count": 27,
   "id": "d7d1f211",
   "metadata": {},
   "outputs": [],
   "source": [
    "def f(x):\n",
    "    return np.sqrt(x)\n",
    "\n",
    "\n",
    "a = 0\n",
    "b = 2\n",
    "\n",
    "\n",
    "def chebyshev_t0(t):\n",
    "    return 1\n",
    "\n",
    "\n",
    "def chebyshev_t1(t):\n",
    "    return t\n",
    "\n",
    "\n",
    "def chebyshev_t2(t):\n",
    "    return 2 * t**2 - 1\n",
    "\n",
    "\n",
    "chebyshev_polynomials = [chebyshev_t0, chebyshev_t1, chebyshev_t2]\n",
    "\n",
    "\n",
    "def chebyshev_weight(t):\n",
    "    return 1 / np.sqrt(1 - t**2)"
   ]
  },
  {
   "cell_type": "code",
   "execution_count": 28,
   "id": "329d8548",
   "metadata": {},
   "outputs": [],
   "source": [
    "coefficients = [\n",
    "    integrate.quad(\n",
    "        lambda x: chebyshev_weight(x - 1) * f(x) * chebyshev_polynomials[k](x - 1),\n",
    "        0,\n",
    "        2,\n",
    "    )[0]\n",
    "    / (np.pi if k == 0 else np.pi / 2)\n",
    "    for k in range(3)\n",
    "]\n",
    "\n",
    "\n",
    "def polynomial(x):\n",
    "    return sum(coefficients[k] * chebyshev_polynomials[k](x - 1) for k in range(3))"
   ]
  },
  {
   "cell_type": "code",
   "execution_count": 29,
   "id": "15a6eac3",
   "metadata": {},
   "outputs": [
    {
     "data": {
      "image/png": "[encoded data removed]",
      "text/plain": [
       "<Figure size 1000x600 with 1 Axes>"
      ]
     },
     "metadata": {},
     "output_type": "display_data"
    }
   ],
   "source": [
    "plt.figure(figsize=(10, 6))\n",
    "x = np.linspace(0, 2, 100)\n",
    "plt.plot(x, f(x))\n",
    "plt.plot(x, polynomial(x))\n",
    "plt.title(\"Chebyshev Polynomial Approximation\")\n",
    "plt.xlabel(\"x\")\n",
    "plt.ylabel(\"f(x)\")\n",
    "plt.legend([\"f(x)\", \"Polynomial Approximation\"])\n",
    "plt.show()\n"
   ]
  },
  {
   "cell_type": "markdown",
   "id": "9c248eff",
   "metadata": {},
   "source": [
    "Wykres pozwala ocenić, że wielomian aproksymacyjny dobrze przybliża funkcję $f$. Obliczymy też błąd względny aproksymacji następującą metodą:\n",
    " - Obliczymy całkę $\\int_{0}^{2} |p(x) - \\sqrt{x}|dx$, gdzie $p(x)$ to nasz wielomian aproksymacyjny\n",
    " - Wynik podzielimy przez całkę z $g(x) = x$ na podanym przedziale - jest ona równa 2."
   ]
  },
  {
   "cell_type": "code",
   "execution_count": 30,
   "id": "4d94f2dd",
   "metadata": {},
   "outputs": [
    {
     "name": "stdout",
     "output_type": "stream",
     "text": [
      "Błąd względny wynosi: 3.17%\n"
     ]
    }
   ],
   "source": [
    "f = lambda x: np.abs(polynomial(x) - np.sqrt(x))\n",
    "y = f(x)\n",
    "integral = np.trapezoid(y, x)\n",
    "print(f\"Błąd względny wynosi: {integral / 2:.2%}\")"
   ]
  },
  {
   "cell_type": "markdown",
   "id": "2212534e",
   "metadata": {},
   "source": [
    "### Wnioski\n",
    "\n",
    "- Najmniejszy błąd względny odnotowano dla wielomianu 6. stopnia, co jest niezgodne z wynikami kryterium informacyjnego Akaikego ze składnikiem korygującym. Wskazał on jako najdokładniejszy wielomian 2. stopnia, który też ma niewielki błąd względny, porównywalny z błędem wielomianu 6. stopnia. Nieścisłość w wyznaczeniu najdokładniejszego wielomianu wynika z niewielkiej ilości parametrów.\n",
    "- Aproksymacja ciągła wielomianami Czebyszewa pozwala uzyskać wielomian o wartościach bardzo zbliżonych do funkcji wyjściowej, z sumarycznym błędem względnym w przybliżeniu równym 3%."
   ]
  }
 ],
 "metadata": {
  "kernelspec": {
   "display_name": "base",
   "language": "python",
   "name": "python3"
  },
  "language_info": {
   "codemirror_mode": {
    "name": "ipython",
    "version": 3
   },
   "file_extension": ".py",
   "mimetype": "text/x-python",
   "name": "python",
   "nbconvert_exporter": "python",
   "pygments_lexer": "ipython3",
   "version": "3.12.9"
  }
 },
 "nbformat": 4,
 "nbformat_minor": 5
}
