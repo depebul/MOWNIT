{
 "cells": [
  {
   "cell_type": "code",
   "execution_count": 21,
   "id": "40455c74",
   "metadata": {},
   "outputs": [],
   "source": [
    "import pandas as pd\n",
    "import numpy as np\n",
    "from io import StringIO\n",
    "from IPython.display import display\n",
    "import matplotlib.pyplot as plt\n",
    "import seaborn as sns\n",
    "\n",
    "sns.set_style(\"darkgrid\")"
   ]
  },
  {
   "cell_type": "code",
   "execution_count": 22,
   "id": "62d54913",
   "metadata": {},
   "outputs": [],
   "source": [
    "x_vec = np.array(\n",
    "    [1900, 1910, 1920, 1930, 1940, 1950, 1960, 1970, 1980], dtype=np.double\n",
    ")\n",
    "y_vec = np.array(\n",
    "    [\n",
    "        76_212_168,\n",
    "        92_228_496,\n",
    "        106_021_537,\n",
    "        123_202_624,\n",
    "        132_164_569,\n",
    "        151_325_798,\n",
    "        179_323_175,\n",
    "        203_302_031,\n",
    "        226_542_199,\n",
    "    ],\n",
    "    dtype=np.double,\n",
    ")"
   ]
  },
  {
   "cell_type": "code",
   "execution_count": 23,
   "id": "d1264399",
   "metadata": {},
   "outputs": [],
   "source": [
    "steps = range(7)\n",
    "results = {}"
   ]
  },
  {
   "cell_type": "code",
   "execution_count": 24,
   "id": "f80a6dee",
   "metadata": {},
   "outputs": [],
   "source": [
    "def vandermonde_matrix(x, m):\n",
    "    return np.vander(x, m + 1, increasing=True)\n",
    "\n",
    "\n",
    "def solve_factorials(A, y):\n",
    "    return np.linalg.solve(A.T @ A, A.T @ y)\n"
   ]
  },
  {
   "cell_type": "code",
   "execution_count": 25,
   "id": "99e48779",
   "metadata": {},
   "outputs": [],
   "source": [
    "for m in steps:\n",
    "    A = vandermonde_matrix(x_vec, m)\n",
    "    b = solve_factorials(A, y_vec)\n",
    "    results[m] = b"
   ]
  },
  {
   "cell_type": "code",
   "execution_count": 26,
   "id": "9c824d76",
   "metadata": {},
   "outputs": [],
   "source": [
    "def evaluate_polynomial(x, b):\n",
    "    result = 0\n",
    "    for i, coef in enumerate(b):\n",
    "        result += coef * (x**i)\n",
    "    return result"
   ]
  },
  {
   "cell_type": "code",
   "execution_count": 27,
   "id": "c78e86f4",
   "metadata": {},
   "outputs": [
    {
     "name": "stdout",
     "output_type": "stream",
     "text": [
      "Prognoza populacji w 1990 roku: 143369177, dla m=0\n",
      "względny błąd prognozy: 42.35%\n",
      "Prognoza populacji w 1990 roku: 235808109, dla m=1\n",
      "względny błąd prognozy: 5.19%\n",
      "Prognoza populacji w 1990 roku: 254712945, dla m=2\n",
      "względny błąd prognozy: 2.41%\n",
      "Prognoza populacji w 1990 roku: 261439719, dla m=3\n",
      "względny błąd prognozy: 5.12%\n",
      "Prognoza populacji w 1990 roku: 256411956, dla m=4\n",
      "względny błąd prognozy: 3.10%\n",
      "Prognoza populacji w 1990 roku: 226938061, dla m=5\n",
      "względny błąd prognozy: 8.75%\n",
      "Prognoza populacji w 1990 roku: 243501315, dla m=6\n",
      "względny błąd prognozy: 2.09%\n"
     ]
    }
   ],
   "source": [
    "for m, b in results.items():\n",
    "    x = 1990\n",
    "    y = evaluate_polynomial(x, b)\n",
    "    print(f\"Prognoza populacji w {x} roku: {y:.0f}, dla m={m}\")\n",
    "    print(f\"względny błąd prognozy: {abs(y - 248_709_873) / 248_709_873:.2%}\")"
   ]
  },
  {
   "cell_type": "code",
   "execution_count": 28,
   "id": "4c7bb885",
   "metadata": {},
   "outputs": [],
   "source": [
    "def calculate_mean_squared_error(y, y_pred):\n",
    "    return np.mean((y - y_pred) ** 2)"
   ]
  },
  {
   "cell_type": "code",
   "execution_count": 29,
   "id": "02a86ce9",
   "metadata": {},
   "outputs": [],
   "source": [
    "def AIC(m, y_vec, y_pred):\n",
    "    n = len(y_vec)\n",
    "    return 2 * (m + 1) + n * np.log(np.sum((y_vec - y_pred) ** 2) / n)\n",
    "\n",
    "\n",
    "def AICc(AIC, m, n):\n",
    "    return AIC + 2 * (m + 1) * (m + 2) / (n - m - 2)"
   ]
  },
  {
   "cell_type": "code",
   "execution_count": 30,
   "id": "04cf0f51",
   "metadata": {},
   "outputs": [
    {
     "name": "stdout",
     "output_type": "stream",
     "text": [
      "AIC dla m=0: 320.44, AICc: 321.01\n",
      "AIC dla m=1: 287.06, AICc: 289.06\n",
      "AIC dla m=2: 274.65, AICc: 279.45\n",
      "AIC dla m=3: 274.88, AICc: 284.88\n",
      "AIC dla m=4: 274.54, AICc: 294.54\n",
      "AIC dla m=5: 277.71, AICc: 319.71\n",
      "AIC dla m=6: 274.87, AICc: 386.87\n"
     ]
    }
   ],
   "source": [
    "for m, b in results.items():\n",
    "    y_pred = evaluate_polynomial(x_vec, b)\n",
    "    mse = calculate_mean_squared_error(y_vec, y_pred)\n",
    "    aic = AIC(m, y_vec, y_pred)\n",
    "    aicc = AICc(aic, m, len(y_vec))\n",
    "    print(f\"AIC dla m={m}: {aic:.2f}, AICc: {aicc:.2f}\")"
   ]
  }
 ],
 "metadata": {
  "kernelspec": {
   "display_name": "base",
   "language": "python",
   "name": "python3"
  },
  "language_info": {
   "codemirror_mode": {
    "name": "ipython",
    "version": 3
   },
   "file_extension": ".py",
   "mimetype": "text/x-python",
   "name": "python",
   "nbconvert_exporter": "python",
   "pygments_lexer": "ipython3",
   "version": "3.12.9"
  }
 },
 "nbformat": 4,
 "nbformat_minor": 5
}
