{
 "cells": [
  {
   "cell_type": "code",
   "execution_count": 1,
   "id": "5bec866c",
   "metadata": {},
   "outputs": [
    {
     "name": "stdout",
     "output_type": "stream",
     "text": [
      "h=0.00194553\n",
      "n=257\n"
     ]
    }
   ],
   "source": [
    "import numpy as np\n",
    "\n",
    "f = lambda y_val: -5 * y_val\n",
    "y_analytical = lambda t_val: np.exp(-5 * t_val)  # y_0 = 1 domyślne\n",
    "\n",
    "t_max = 0.5\n",
    "y_0 = 1.0\n",
    "tol = 0.001\n",
    "\n",
    "y_exact_at_t_max = y_analytical(t_max)\n",
    "\n",
    "\n",
    "def euler_forward(h_step, num_steps):\n",
    "    y_current = y_0\n",
    "    for _ in range(num_steps):\n",
    "        y_current += h_step * f(y_current)\n",
    "    return y_current\n",
    "\n",
    "\n",
    "for n_current in range(1, 10000):\n",
    "    h_current = t_max / n_current\n",
    "    y_approx_at_t_max = euler_forward(h_current, n_current)\n",
    "    error = np.abs(y_exact_at_t_max - y_approx_at_t_max)\n",
    "    if error < tol:\n",
    "        print(f\"h={h_current:.8f}\")\n",
    "        print(f\"n={n_current}\")\n",
    "        break"
   ]
  }
 ],
 "metadata": {
  "kernelspec": {
   "display_name": "base",
   "language": "python",
   "name": "python3"
  },
  "language_info": {
   "codemirror_mode": {
    "name": "ipython",
    "version": 3
   },
   "file_extension": ".py",
   "mimetype": "text/x-python",
   "name": "python",
   "nbconvert_exporter": "python",
   "pygments_lexer": "ipython3",
   "version": "3.12.9"
  }
 },
 "nbformat": 4,
 "nbformat_minor": 5
}
