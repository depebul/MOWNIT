{
 "cells": [
  {
   "cell_type": "markdown",
   "id": "3a58ca90",
   "metadata": {},
   "source": [
    "# Laboratorium 9 - Równania różniczkowe zwyczajne – część I"
   ]
  },
  {
   "cell_type": "markdown",
   "id": "7447fd39",
   "metadata": {},
   "source": [
    "### Zadanie 1.\n",
    "\n",
    "a) \n",
    "$$y'' = y'(1-y^2) - y \\ \\ \\ / z = y'$$\n",
    "$$\\begin{cases}\n",
    "z = y'\\\\\n",
    "z' = z(1-y^2) - y\n",
    "\\end{cases}$$\n",
    "\n",
    "\n",
    "b) \n",
    "$$y''' = -yy'' - y^2y' \\ \\ \\ / z = y', w = y''$$\n",
    "\n",
    "$$\\begin{cases}\n",
    "z = y'\\\\\n",
    "w = y''\\\\\n",
    "w' = -yw\n",
    "\\end{cases}$$\n",
    "\n",
    "c) \n",
    "$$y_1'' = -GM \\frac{y_1}{(y_1^2 + y_2^2)^{3/2}} \\ \\ \\ / z_1 = y_1'$$\n",
    "$$y_2'' = -GM \\frac{y_2}{(y_1^2 + y_2^2)^{3/2}} \\ \\ \\ / z_2 = y_2'$$\n",
    "\n",
    "$$\\begin{cases}\n",
    "z_1 = y_1'\\\\\n",
    "z_1 = -GM \\frac{y_1}{(y_1^2 + y_2^2)^{3/2}}\\\\\n",
    "z_2 = y_2'\\\\\n",
    "z_2 = -GM \\frac{y_2}{(y_1^2 + y_2^2)^{3/2}}\n",
    "\n",
    "\\end{cases}$$"
   ]
  },
  {
   "cell_type": "markdown",
   "id": "48548154",
   "metadata": {},
   "source": [
    "### Zadanie 2."
   ]
  },
  {
   "cell_type": "markdown",
   "id": "f85891a2",
   "metadata": {},
   "source": [
    "$$\\begin{cases}\n",
    "y_1' = \\frac{y_1}{t} + y_2t \\ \\ \\ / s = t\\\\\n",
    "y_2' = \\frac{t(y_2^2 - 1)}{y_1} \\ \\ \\ / s' = 1\\\\\n",
    "\\end{cases}$$\n",
    "\n",
    "$$\\begin{cases}\n",
    "s' = 1\\\\\n",
    "y_1' = \\frac{y_1}{s} + y_2s\\\\\n",
    "y_2' = \\frac{s(y_2^2 - 1)}{y_1}\\\\\n",
    "\\end{cases}$$"
   ]
  },
  {
   "cell_type": "markdown",
   "id": "8c48658c",
   "metadata": {},
   "source": [
    "### Zadanie 3."
   ]
  },
  {
   "cell_type": "markdown",
   "id": "cf4c801c",
   "metadata": {},
   "source": [
    "$$y' = \\sqrt{1 - y}$$\n",
    "$$y(0)=0$$\n",
    "$$Dla \\ y(t)= \\frac{t(4 - t)}{4}$$\n",
    "$$y(0) = 0 $$"
   ]
  },
  {
   "cell_type": "markdown",
   "id": "41a6f532",
   "metadata": {},
   "source": [
    "$$L = y'(t) = \\frac{2-t}{2} $$\n",
    "$$P = \\sqrt{1 - y(t)} = \\frac{1}{2}\\sqrt{4 - 4t + t^2} = \\frac{|2 - t|}{2}$$\n",
    "\n",
    "1. Dla t ≥ 2:\n",
    "$$ |2 - t| = t - 2$$\n",
    "$$\\frac{2-t}{2} = \\frac{t-2}{2}$$\n",
    "$$2t = 4 $$\n",
    "$$t = 2$$\n",
    "2. Dla t < 2:\n",
    "$$ |2 - t| = 2 - t$$\n",
    "$$\\frac{2-t}{2} = \\frac{2 - t}{2}$$\n",
    "$$ L = P$$\n",
    "\n",
    "Czyli $t \\in (-\\inf,2>$"
   ]
  },
  {
   "cell_type": "markdown",
   "id": "663f1374",
   "metadata": {},
   "source": [
    "### Zadanie 4."
   ]
  },
  {
   "cell_type": "markdown",
   "id": "655f9a93",
   "metadata": {},
   "source": [
    "$$y' = -5y$$\n",
    "$$y(0) = 1$$\n",
    "$$h = 0.5$$"
   ]
  }
 ],
 "metadata": {
  "kernelspec": {
   "display_name": "base",
   "language": "python",
   "name": "python3"
  },
  "language_info": {
   "name": "python",
   "version": "3.12.9"
  }
 },
 "nbformat": 4,
 "nbformat_minor": 5
}
