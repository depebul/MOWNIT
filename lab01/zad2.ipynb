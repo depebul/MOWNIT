{
 "cells": [
  {
   "cell_type": "code",
   "execution_count": 1,
   "metadata": {},
   "outputs": [],
   "source": [
    "import numpy as np\n",
    "import matplotlib.pyplot as plt\n",
    "import seaborn as sns\n",
    "\n",
    "sns.set_style(\"darkgrid\")"
   ]
  },
  {
   "cell_type": "code",
   "execution_count": 2,
   "metadata": {},
   "outputs": [],
   "source": [
    "n = 10000\n",
    "\n",
    "random_numbers = np.random.uniform(0, 1, n).astype(np.float32)\n",
    "reference_sum = np.sum(random_numbers)\n",
    "\n",
    "\n",
    "def sum_with_double_precision(numbers):\n",
    "    sum_double = np.float64(0.0)\n",
    "    for num in numbers:\n",
    "        sum_double += num\n",
    "    return sum_double\n",
    "\n",
    "\n",
    "result_a = sum_with_double_precision(random_numbers)"
   ]
  },
  {
   "cell_type": "code",
   "execution_count": 3,
   "metadata": {},
   "outputs": [
    {
     "name": "stdout",
     "output_type": "stream",
     "text": [
      "(a) Suma z akumulatorem podwójnej precyzji: 5011.724546711492\n",
      "(b) Suma z akumulatorem pojedynczej precyzji: 5011.73583984375\n",
      "(c) Suma z algorytmem Kahana: 5011.724609375\n",
      "(d) Suma w porządku rosnącym: 5011.724546711492\n",
      "(e) Suma w porządku malejącym: 5011.724546711492\n",
      "Prawdziwa suma (np.fsum): 5011.724609375\n",
      "\n",
      "Błędy względne:\n",
      "(a) Błąd względny dla akumulatora podwójnej precyzji: 1.25e-08\n",
      "(b) Błąd względny dla akumulatora pojedynczej precyzji: 2.24e-06\n",
      "(c) Błąd względny dla algorytmu Kahana: 0.00e+00\n",
      "(d) Błąd względny dla sumy w porządku rosnącym: 1.25e-08\n",
      "(e) Błąd względny dla sumy w porządku malejącym: 1.25e-08\n",
      "Obliczenia dla n=10000 zakończone\n",
      "Obliczenia dla n=100000 zakończone\n"
     ]
    },
    {
     "name": "stdout",
     "output_type": "stream",
     "text": [
      "Obliczenia dla n=1000000 zakończone\n"
     ]
    },
    {
     "name": "stdout",
     "output_type": "stream",
     "text": [
      "Obliczenia dla n=10000000 zakończone\n"
     ]
    },
    {
     "name": "stdout",
     "output_type": "stream",
     "text": [
      "Obliczenia dla n=100000000 zakończone\n"
     ]
    },
    {
     "data": {
      "application/pdf": "[encoded data removed]",
      "text/plain": [
       "<Figure size 3600x2400 with 1 Axes>"
      ]
     },
     "metadata": {},
     "output_type": "display_data"
    }
   ],
   "source": [
    "# (b) Sumowanie z akumulatorem pojedynczej precyzji\n",
    "def sum_with_single_precision(numbers):\n",
    "    sum_single = np.float32(0.0)\n",
    "    for num in numbers:\n",
    "        sum_single += num\n",
    "    return sum_single\n",
    "\n",
    "\n",
    "# (c) Algorytm Kahana sumowania z kompensacją\n",
    "def kahan_sum(numbers):\n",
    "    sum_k = np.float32(0.0)\n",
    "    err = np.float32(0.0)\n",
    "    for num in numbers:\n",
    "        y = np.float32(num - err)\n",
    "        temp = np.float32(sum_k + y)\n",
    "        err = np.float32((temp - sum_k) - y)\n",
    "        sum_k = temp\n",
    "    return sum_k\n",
    "\n",
    "\n",
    "# (d) Sumowanie w porządku rosnącym\n",
    "def sum_ascending(numbers):\n",
    "    sorted_numbers = np.sort(numbers)\n",
    "    sum_asc = np.float64(0.0)\n",
    "    for num in sorted_numbers:\n",
    "        sum_asc += num\n",
    "    return sum_asc\n",
    "\n",
    "\n",
    "# (e) Sumowanie w porządku malejącym\n",
    "def sum_descending(numbers):\n",
    "    sorted_numbers = np.sort(numbers)[::-1]\n",
    "    sum_desc = np.float64(0.0)\n",
    "    for num in sorted_numbers:\n",
    "        sum_desc += num\n",
    "    return sum_desc\n",
    "\n",
    "\n",
    "result_b = sum_with_single_precision(random_numbers)\n",
    "result_c = kahan_sum(random_numbers)\n",
    "result_d = sum_ascending(random_numbers)\n",
    "result_e = sum_descending(random_numbers)\n",
    "\n",
    "# Jakie np.fsum, jak czegoś takiego nie ma.\n",
    "true_sum = np.sum(random_numbers)\n",
    "\n",
    "print(f\"(a) Suma z akumulatorem podwójnej precyzji: {result_a}\")\n",
    "print(f\"(b) Suma z akumulatorem pojedynczej precyzji: {result_b}\")\n",
    "print(f\"(c) Suma z algorytmem Kahana: {result_c}\")\n",
    "print(f\"(d) Suma w porządku rosnącym: {result_d}\")\n",
    "print(f\"(e) Suma w porządku malejącym: {result_e}\")\n",
    "print(f\"Prawdziwa suma (np.fsum): {true_sum}\")\n",
    "\n",
    "# Obliczanie błędów względnych\n",
    "rel_error_a = abs((result_a - true_sum) / true_sum)\n",
    "rel_error_b = abs((result_b - true_sum) / true_sum)\n",
    "rel_error_c = abs((result_c - true_sum) / true_sum)\n",
    "rel_error_d = abs((result_d - true_sum) / true_sum)\n",
    "rel_error_e = abs((result_e - true_sum) / true_sum)\n",
    "\n",
    "print(\"\\nBłędy względne:\")\n",
    "print(f\"(a) Błąd względny dla akumulatora podwójnej precyzji: {rel_error_a:.2e}\")\n",
    "print(f\"(b) Błąd względny dla akumulatora pojedynczej precyzji: {rel_error_b:.2e}\")\n",
    "print(f\"(c) Błąd względny dla algorytmu Kahana: {rel_error_c:.2e}\")\n",
    "print(f\"(d) Błąd względny dla sumy w porządku rosnącym: {rel_error_d:.2e}\")\n",
    "print(f\"(e) Błąd względny dla sumy w porządku malejącym: {rel_error_e:.2e}\")\n",
    "\n",
    "# Wykres błędów względnych w zależności od n\n",
    "n_values = [10**k for k in range(4, 9)]\n",
    "errors_a = []\n",
    "errors_b = []\n",
    "errors_c = []\n",
    "errors_d = []\n",
    "errors_e = []\n",
    "\n",
    "for n_val in n_values:\n",
    "    nums = np.random.uniform(0, 1, n_val).astype(np.float32)\n",
    "\n",
    "    true_sum = np.sum(nums)\n",
    "\n",
    "    sum_a = sum_with_double_precision(nums)\n",
    "    sum_b = sum_with_single_precision(nums)\n",
    "    sum_c = kahan_sum(nums)\n",
    "    sum_d = sum_ascending(nums)\n",
    "    sum_e = sum_descending(nums)\n",
    "\n",
    "    errors_a.append(abs((sum_a - true_sum) / true_sum))\n",
    "    errors_b.append(abs((sum_b - true_sum) / true_sum))\n",
    "    errors_c.append(abs((sum_c - true_sum) / true_sum))\n",
    "    errors_d.append(abs((sum_d - true_sum) / true_sum))\n",
    "    errors_e.append(abs((sum_e - true_sum) / true_sum))\n",
    "\n",
    "    print(f\"Obliczenia dla n={n_val} zakończone\")\n",
    "\n",
    "\n",
    "plt.figure(dpi=300, figsize=(12, 8))\n",
    "plt.loglog(n_values, errors_a, \"o-\", label=\"(a) Akumulator podwójnej precyzji\")\n",
    "plt.loglog(n_values, errors_b, \"s-\", label=\"(b) Akumulator pojedynczej precyzji\")\n",
    "plt.loglog(n_values, errors_c, \"^-\", label=\"(c) Algorytm Kahana\")\n",
    "plt.loglog(n_values, errors_d, \"d-\", label=\"(d) Porządek rosnący\")\n",
    "plt.loglog(n_values, errors_e, \"*-\", label=\"(e) Porządek malejący\")\n",
    "\n",
    "plt.xlabel(\"Liczba sumowanych elementów (n)\")\n",
    "plt.ylabel(\"Błąd względny\")\n",
    "plt.title(\"Błąd względny sumowania w zależności od liczby elementów\")\n",
    "plt.grid(True, which=\"both\", ls=\"--\", alpha=0.7)\n",
    "plt.legend()\n",
    "plt.tight_layout()\n",
    "plt.show()"
   ]
  }
 ],
 "metadata": {
  "kernelspec": {
   "display_name": "AMC data jupyter",
   "language": "python",
   "name": "amc_data_jupyter"
  },
  "language_info": {
   "codemirror_mode": {
    "name": "ipython",
    "version": 3
   },
   "file_extension": ".py",
   "mimetype": "text/x-python",
   "name": "python",
   "nbconvert_exporter": "python",
   "pygments_lexer": "ipython3",
   "version": "3.12.9"
  }
 },
 "nbformat": 4,
 "nbformat_minor": 2
}
