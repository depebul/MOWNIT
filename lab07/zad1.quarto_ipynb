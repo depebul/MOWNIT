{
  "cells": [
    {
      "cell_type": "markdown",
      "metadata": {},
      "source": [
        "# Laboratorium 7 - Kwadratury adaptacyjne\n"
      ],
      "id": "0648a4ca"
    },
    {
      "cell_type": "code",
      "metadata": {},
      "source": [
        "import numpy as np\n",
        "import matplotlib.pyplot as plt\n",
        "import pandas as pd\n",
        "from scipy import integrate\n",
        "import seaborn as sns\n",
        "from IPython.display import display\n",
        "\n",
        "sns.set_style(\"darkgrid\")"
      ],
      "id": "7c961ee5",
      "execution_count": null,
      "outputs": []
    },
    {
      "cell_type": "markdown",
      "metadata": {},
      "source": [
        "## Zadanie 1.\n",
        "Oblicz wartość całki z poprzedniego laboratorium\n",
        "$$\n",
        "\\int_{0}^{1} \\frac{4}{1+x^2} dx = \\pi. \\quad (1)\n",
        "$$\n",
        "korzystając z:\n",
        "- (a) kwadratur adaptacyjnych trapezów,\n",
        "- (b) kwadratur adaptacyjnych Gaussa-Kronroda.*\n",
        "\n",
        "Dla każdej metody narysuj wykres wartości bezwzględnej błędu względnego w\n",
        "zależności od liczby ewaluacji funkcji podcałkowej. Wyniki dodaj do wykresu\n",
        "uzyskanego w poprzednim laboratorium. Przydatna będzie funkcja\n",
        "$\\texttt{scipy.integrate.quad\\_vec}$. Na liczbę ewaluacji funkcji podcałkowej można\n",
        "wpływać pośrednio, zmieniając wartość dopuszczalnego błędu (tolerancji). Przyjmij wartości tolerancji z zakresu od $10^0$ do $10^{−14}$. Liczba ewalulacji funkcji pod-całkowej zwracana jest w zmiennej $\\texttt{info.neval}$.\n"
      ],
      "id": "94609add"
    },
    {
      "cell_type": "code",
      "metadata": {},
      "source": [
        "def f(x):\n",
        "    return 4 / (1 + x**2)\n",
        "\n",
        "\n",
        "a = 0\n",
        "b = 1\n",
        "width = b - a\n",
        "m_vec = np.arange(1, 26)\n",
        "n_vec = 2**m_vec + 1"
      ],
      "id": "8b2dd5e9",
      "execution_count": null,
      "outputs": []
    },
    {
      "cell_type": "code",
      "metadata": {},
      "source": [
        "def quad_int(xs, f):\n",
        "    s = 0\n",
        "    for i in range(len(xs) - 1):\n",
        "        dx = xs[i + 1] - xs[i]\n",
        "        x = (xs[i] + xs[i + 1]) / 2\n",
        "        s += f(x) * dx\n",
        "    return s\n",
        "\n",
        "\n",
        "def trap(xs, f):\n",
        "    return integrate.trapezoid([f(xs)], x=xs)\n",
        "\n",
        "\n",
        "def simpson(xs, f):\n",
        "    return integrate.simpson(f(xs), x=xs)\n",
        "\n",
        "\n",
        "def trap_adaptive(epsrel):\n",
        "    return integrate.quad_vec(\n",
        "        f, a, b, epsrel=epsrel, quadrature=\"trapezoid\", full_output=True\n",
        "    )\n",
        "\n",
        "\n",
        "def gauss_kronrod(epsrel):\n",
        "    return integrate.quad_vec(\n",
        "        f, a, b, epsrel=epsrel, quadrature=\"gk21\", full_output=True\n",
        "    )"
      ],
      "id": "e712265b",
      "execution_count": null,
      "outputs": []
    },
    {
      "cell_type": "code",
      "metadata": {},
      "source": [
        "values_list = []\n",
        "formula_list = [quad_int, trap, simpson]\n",
        "formula_list_2 = [trap_adaptive, gauss_kronrod]\n",
        "\n",
        "for formula in formula_list:\n",
        "    values = []\n",
        "    n_nodes = [2**m + 1 for m in m_vec]\n",
        "    x_nodes = [np.linspace(a, b, n) for n in n_nodes]\n",
        "    for nodes in x_nodes:\n",
        "        value = formula(nodes, f)\n",
        "        values.append(value)\n",
        "    values_list.append(values)\n",
        "\n",
        "m_vec_gauss = np.arange(1, 15)\n",
        "n_vec_gauss = 2**m_vec_gauss + 1\n",
        "leggaus_values = [np.polynomial.legendre.leggauss(n) for n in n_vec_gauss]\n",
        "x_vec_gauss = [x_vec * 0.5 + 0.5 for x_vec, _ in leggaus_values]\n",
        "y_vec_gauss = [w_vec for _, w_vec in leggaus_values]\n",
        "gauss_values = [np.sum(f(x) * 0.5 * w) for x, w in zip(x_vec_gauss, y_vec_gauss)]\n",
        "gauss_errors = [np.abs(value - np.pi) / np.pi for value in gauss_values]"
      ],
      "id": "debb24ad",
      "execution_count": null,
      "outputs": []
    },
    {
      "cell_type": "code",
      "metadata": {},
      "source": [
        "errors_list = []\n",
        "\n",
        "for i, values in enumerate(values_list):\n",
        "    errors = []\n",
        "    for j, value in enumerate(values):\n",
        "        error = np.abs(value - np.pi) / np.pi\n",
        "        errors.append(error)\n",
        "    errors_list.append(errors)\n",
        "x_arr = []\n",
        "for formula in formula_list_2:\n",
        "    errors = []\n",
        "    x_arr_1 = []\n",
        "    for eps in [x for x in np.logspace(0, -14, 14)]:\n",
        "        result = formula(eps)\n",
        "        err = result[1]\n",
        "        eval_count = result[-1].neval\n",
        "        errors.append(err)\n",
        "        x_arr_1.append(eval_count)\n",
        "    errors_list.append(errors)\n",
        "    x_arr.append(x_arr_1)"
      ],
      "id": "ee07b3ca",
      "execution_count": null,
      "outputs": []
    },
    {
      "cell_type": "code",
      "metadata": {},
      "source": [
        "plt.figure(figsize=(10, 6))\n",
        "\n",
        "plt.plot(2**m_vec + 1, errors_list[0], label=\"Rectangular\")\n",
        "plt.plot(2**m_vec + 1, errors_list[1], label=\"Trapezoidal\")\n",
        "plt.plot(2**m_vec + 1, errors_list[2], label=\"Simpson\")\n",
        "plt.plot(2**m_vec_gauss + 1, gauss_errors, label=\"Gauss-Legendre\")\n",
        "plt.plot(x_arr[0], errors_list[3], label=\"Trap Adaptive\")\n",
        "plt.plot(x_arr[1], errors_list[4], label=\"Gauss Kronrod\", marker=\"o\")\n",
        "plt.yscale(\"log\")\n",
        "plt.xscale(\"log\")\n",
        "plt.xlabel(\"Number of nodes\")\n",
        "plt.ylabel(\"Relative error\")\n",
        "plt.title(\"Integration error for different methods\")\n",
        "plt.legend()\n",
        "plt.show()"
      ],
      "id": "66f2a2ed",
      "execution_count": null,
      "outputs": []
    }
  ],
  "metadata": {
    "kernelspec": {
      "name": "amc_data_jupyter",
      "language": "python",
      "display_name": "AMC data jupyter",
      "path": "/Users/depebul/Library/Jupyter/kernels/amc_data_jupyter"
    }
  },
  "nbformat": 4,
  "nbformat_minor": 5
}